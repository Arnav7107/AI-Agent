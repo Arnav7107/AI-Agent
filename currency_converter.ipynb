{
 "cells": [
  {
   "cell_type": "code",
   "execution_count": 5,
   "id": "ffe02b76",
   "metadata": {},
   "outputs": [],
   "source": [
    "import os\n",
    "from langchain_core.tools import tool\n",
    "from langchain_google_genai import ChatGoogleGenerativeAI\n",
    "from langchain_core.messages import HumanMessage\n",
    "import requests\n",
    "from dotenv import load_dotenv"
   ]
  },
  {
   "cell_type": "code",
   "execution_count": 6,
   "id": "517d96d8",
   "metadata": {},
   "outputs": [
    {
     "name": "stdout",
     "output_type": "stream",
     "text": [
      "d023e9fb25bd8e457933d21f\n"
     ]
    }
   ],
   "source": [
    "load_dotenv()\n",
    "api_key = os.getenv(\"EXCHANGE_RATE_API_KEY\")\n",
    "print(api_key)"
   ]
  },
  {
   "cell_type": "code",
   "execution_count": 23,
   "id": "aadd9fc9",
   "metadata": {},
   "outputs": [],
   "source": [
    "# Creating Tool :- \n",
    "\n",
    "@tool\n",
    "def get_conversion_factor(base_currency : str, target_currency : str) -> float:\n",
    "    \"\"\"\n",
    "    This function fetches the currency conversion factor between the given base currency and the target currency.\n",
    "    \"\"\"\n",
    "    \n",
    "    url = f'https://v6.exchangerate-api.com/v6/{api_key}/pair/{base_currency}/{target_currency}'\n",
    "    \n",
    "    response = requests.get(url)\n",
    "    \n",
    "    return response.json()\n",
    "\n",
    "@tool \n",
    "def convert(base_currency_value: int, conversion_rate: float) -> float:\n",
    "    \"\"\"\n",
    "    Given a currency rate, this function calculates the target currency value from the given base currency value\n",
    "    \"\"\"\n",
    "    \n",
    "    return base_currency_value * conversion_rate\n",
    "    "
   ]
  },
  {
   "cell_type": "code",
   "execution_count": 29,
   "id": "3e4eb274",
   "metadata": {},
   "outputs": [
    {
     "data": {
      "text/plain": [
       "{'result': 'success',\n",
       " 'documentation': 'https://www.exchangerate-api.com/docs',\n",
       " 'terms_of_use': 'https://www.exchangerate-api.com/terms',\n",
       " 'time_last_update_unix': 1755734401,\n",
       " 'time_last_update_utc': 'Thu, 21 Aug 2025 00:00:01 +0000',\n",
       " 'time_next_update_unix': 1755820801,\n",
       " 'time_next_update_utc': 'Fri, 22 Aug 2025 00:00:01 +0000',\n",
       " 'base_code': 'INR',\n",
       " 'target_code': 'USD',\n",
       " 'conversion_rate': 0.01148}"
      ]
     },
     "execution_count": 29,
     "metadata": {},
     "output_type": "execute_result"
    }
   ],
   "source": [
    "get_conversion_factor.invoke({'base_currency' : 'INR', 'target_currency' : 'USD'})"
   ]
  },
  {
   "cell_type": "code",
   "execution_count": 28,
   "id": "0a196203",
   "metadata": {},
   "outputs": [
    {
     "data": {
      "text/plain": [
       "8707.1"
      ]
     },
     "execution_count": 28,
     "metadata": {},
     "output_type": "execute_result"
    }
   ],
   "source": [
    "convert.invoke({'base_currency_value':100, 'conversion_rate':87.071})"
   ]
  },
  {
   "cell_type": "code",
   "execution_count": 27,
   "id": "5f4f3116",
   "metadata": {},
   "outputs": [],
   "source": [
    "# TOOL BINDING \n",
    "\n",
    "llm = ChatGoogleGenerativeAI(model = \"gemini-2.5-flash\")\n",
    "\n",
    "\n"
   ]
  },
  {
   "cell_type": "code",
   "execution_count": 30,
   "id": "3581bcf7",
   "metadata": {},
   "outputs": [],
   "source": [
    "llm_with_tools = llm.bind_tools([get_conversion_factor, convert])"
   ]
  }
 ],
 "metadata": {
  "kernelspec": {
   "display_name": "myenv",
   "language": "python",
   "name": "python3"
  },
  "language_info": {
   "codemirror_mode": {
    "name": "ipython",
    "version": 3
   },
   "file_extension": ".py",
   "mimetype": "text/x-python",
   "name": "python",
   "nbconvert_exporter": "python",
   "pygments_lexer": "ipython3",
   "version": "3.13.0"
  }
 },
 "nbformat": 4,
 "nbformat_minor": 5
}
