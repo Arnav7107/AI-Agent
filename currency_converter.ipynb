{
 "cells": [
  {
   "cell_type": "code",
   "execution_count": 90,
   "id": "ffe02b76",
   "metadata": {},
   "outputs": [],
   "source": [
    "import os\n",
    "from langchain_core.tools import tool, InjectedToolArg\n",
    "from langchain_google_genai import ChatGoogleGenerativeAI\n",
    "from langchain_core.messages import HumanMessage\n",
    "import requests\n",
    "from dotenv import load_dotenv\n",
    "from typing import Annotated"
   ]
  },
  {
   "cell_type": "code",
   "execution_count": 91,
   "id": "517d96d8",
   "metadata": {},
   "outputs": [
    {
     "name": "stdout",
     "output_type": "stream",
     "text": [
      "d023e9fb25bd8e457933d21f\n"
     ]
    }
   ],
   "source": [
    "load_dotenv()\n",
    "api_key = os.getenv(\"EXCHANGE_RATE_API_KEY\")\n",
    "print(api_key)"
   ]
  },
  {
   "cell_type": "code",
   "execution_count": 92,
   "id": "aadd9fc9",
   "metadata": {},
   "outputs": [],
   "source": [
    "\n",
    "# Creating Tool :- \n",
    "\n",
    "@tool\n",
    "def get_conversion_factor(base_currency : str, target_currency : str) -> float:\n",
    "    \"\"\"\n",
    "    This function fetches the currency conversion factor between the given base currency and the target currency.\n",
    "    \"\"\"\n",
    "    \n",
    "    url = f'https://v6.exchangerate-api.com/v6/{api_key}/pair/{base_currency}/{target_currency}'\n",
    "    \n",
    "    response = requests.get(url)\n",
    "    \n",
    "    return response.json()\n",
    "\n",
    "@tool \n",
    "def convert(base_currency_value: int, conversion_rate: Annotated[float, InjectedToolArg]) -> float:\n",
    "    \"\"\"\n",
    "    This function converts the currency with the help of base_currency_value and the conversion rate given.\n",
    "    \"\"\"\n",
    "    \n",
    "    return base_currency_value * conversion_rate\n",
    "    "
   ]
  },
  {
   "cell_type": "code",
   "execution_count": 93,
   "id": "3e4eb274",
   "metadata": {},
   "outputs": [
    {
     "data": {
      "text/plain": [
       "{'result': 'success',\n",
       " 'documentation': 'https://www.exchangerate-api.com/docs',\n",
       " 'terms_of_use': 'https://www.exchangerate-api.com/terms',\n",
       " 'time_last_update_unix': 1755734401,\n",
       " 'time_last_update_utc': 'Thu, 21 Aug 2025 00:00:01 +0000',\n",
       " 'time_next_update_unix': 1755820801,\n",
       " 'time_next_update_utc': 'Fri, 22 Aug 2025 00:00:01 +0000',\n",
       " 'base_code': 'USD',\n",
       " 'target_code': 'INR',\n",
       " 'conversion_rate': 87.071}"
      ]
     },
     "execution_count": 93,
     "metadata": {},
     "output_type": "execute_result"
    }
   ],
   "source": [
    "get_conversion_factor.invoke({'base_currency' : 'USD', 'target_currency' : 'INR'})"
   ]
  },
  {
   "cell_type": "code",
   "execution_count": 94,
   "id": "0a196203",
   "metadata": {},
   "outputs": [
    {
     "data": {
      "text/plain": [
       "8707.1"
      ]
     },
     "execution_count": 94,
     "metadata": {},
     "output_type": "execute_result"
    }
   ],
   "source": [
    "convert.invoke({'base_currency_value':100, 'conversion_rate':87.071})"
   ]
  },
  {
   "cell_type": "code",
   "execution_count": 95,
   "id": "5f4f3116",
   "metadata": {},
   "outputs": [],
   "source": [
    "llm = ChatGoogleGenerativeAI(model = \"gemini-2.5-flash\")\n"
   ]
  },
  {
   "cell_type": "code",
   "execution_count": 96,
   "id": "3581bcf7",
   "metadata": {},
   "outputs": [],
   "source": [
    "# TOOL BINDING\n",
    "llm_with_tools = llm.bind_tools([get_conversion_factor, convert])"
   ]
  },
  {
   "cell_type": "code",
   "execution_count": 97,
   "id": "9bf87735",
   "metadata": {},
   "outputs": [
    {
     "data": {
      "text/plain": [
       "[HumanMessage(content='What is the conversion factor between USD and INR? Based on this can you convert 10 USD to INR', additional_kwargs={}, response_metadata={})]"
      ]
     },
     "execution_count": 97,
     "metadata": {},
     "output_type": "execute_result"
    }
   ],
   "source": [
    "messages = [HumanMessage(\"What is the conversion factor between USD and INR? Based on this can you convert 10 USD to INR\")]\n",
    "\n",
    "messages"
   ]
  },
  {
   "cell_type": "code",
   "execution_count": 98,
   "id": "bdd3e369",
   "metadata": {},
   "outputs": [],
   "source": [
    "ai_message = llm_with_tools.invoke(messages)"
   ]
  },
  {
   "cell_type": "code",
   "execution_count": 99,
   "id": "c135889d",
   "metadata": {},
   "outputs": [],
   "source": [
    "messages.append(ai_message)"
   ]
  },
  {
   "cell_type": "code",
   "execution_count": 100,
   "id": "ad677b92",
   "metadata": {},
   "outputs": [
    {
     "data": {
      "text/plain": [
       "AIMessage(content='', additional_kwargs={'function_call': {'name': 'get_conversion_factor', 'arguments': '{\"base_currency\": \"USD\", \"target_currency\": \"INR\"}'}}, response_metadata={'prompt_feedback': {'block_reason': 0, 'safety_ratings': []}, 'finish_reason': 'STOP', 'model_name': 'gemini-2.5-flash', 'safety_ratings': []}, id='run--666179a5-2460-402b-b50e-149189b9be79-0', tool_calls=[{'name': 'get_conversion_factor', 'args': {'base_currency': 'USD', 'target_currency': 'INR'}, 'id': '0bdd177d-0b9d-4e55-90f2-ac82c0917f3f', 'type': 'tool_call'}], usage_metadata={'input_tokens': 151, 'output_tokens': 123, 'total_tokens': 274, 'input_token_details': {'cache_read': 0}, 'output_token_details': {'reasoning': 97}})"
      ]
     },
     "execution_count": 100,
     "metadata": {},
     "output_type": "execute_result"
    }
   ],
   "source": [
    "ai_message"
   ]
  },
  {
   "cell_type": "code",
   "execution_count": 101,
   "id": "a78b980c",
   "metadata": {},
   "outputs": [
    {
     "data": {
      "text/plain": [
       "[{'name': 'get_conversion_factor',\n",
       "  'args': {'base_currency': 'USD', 'target_currency': 'INR'},\n",
       "  'id': '0bdd177d-0b9d-4e55-90f2-ac82c0917f3f',\n",
       "  'type': 'tool_call'}]"
      ]
     },
     "execution_count": 101,
     "metadata": {},
     "output_type": "execute_result"
    }
   ],
   "source": [
    "ai_message.tool_calls"
   ]
  },
  {
   "cell_type": "code",
   "execution_count": null,
   "id": "db0aa6ee",
   "metadata": {},
   "outputs": [],
   "source": [
    "import json \n",
    "\n",
    "for tool_call in ai_message.tool_calls:\n",
    "    if(tool_call['name'] == 'get_conversion_factor'):\n",
    "        tool_message1 = get_conversion_factor.invoke(tool_call)\n",
    "        conversion_rate = json.loads(tool_message1.content)['conversion_rate']\n",
    "        \n",
    "        messages.append(tool_message1)\n",
    "    \n",
    "    if(tool_call['name'] == 'convert'):\n",
    "        tool_call['args']['conversion_rate'] = conversion_rate\n",
    "        tool_message2 = convert.invoke(tool_call)\n",
    "        messages.append(tool_message2)\n",
    "messages.append(HumanMessage(content=\"Please provide the final answer now. And list down the name of tools that you used for finding the final answer\"))"
   ]
  },
  {
   "cell_type": "code",
   "execution_count": 106,
   "id": "8df75f62",
   "metadata": {},
   "outputs": [
    {
     "data": {
      "text/plain": [
       "[HumanMessage(content='What is the conversion factor between USD and INR? Based on this can you convert 10 USD to INR', additional_kwargs={}, response_metadata={}),\n",
       " AIMessage(content='', additional_kwargs={'function_call': {'name': 'get_conversion_factor', 'arguments': '{\"base_currency\": \"USD\", \"target_currency\": \"INR\"}'}}, response_metadata={'prompt_feedback': {'block_reason': 0, 'safety_ratings': []}, 'finish_reason': 'STOP', 'model_name': 'gemini-2.5-flash', 'safety_ratings': []}, id='run--666179a5-2460-402b-b50e-149189b9be79-0', tool_calls=[{'name': 'get_conversion_factor', 'args': {'base_currency': 'USD', 'target_currency': 'INR'}, 'id': '0bdd177d-0b9d-4e55-90f2-ac82c0917f3f', 'type': 'tool_call'}], usage_metadata={'input_tokens': 151, 'output_tokens': 123, 'total_tokens': 274, 'input_token_details': {'cache_read': 0}, 'output_token_details': {'reasoning': 97}}),\n",
       " ToolMessage(content='{\"result\": \"success\", \"documentation\": \"https://www.exchangerate-api.com/docs\", \"terms_of_use\": \"https://www.exchangerate-api.com/terms\", \"time_last_update_unix\": 1755734401, \"time_last_update_utc\": \"Thu, 21 Aug 2025 00:00:01 +0000\", \"time_next_update_unix\": 1755820801, \"time_next_update_utc\": \"Fri, 22 Aug 2025 00:00:01 +0000\", \"base_code\": \"USD\", \"target_code\": \"INR\", \"conversion_rate\": 87.071}', name='get_conversion_factor', tool_call_id='0bdd177d-0b9d-4e55-90f2-ac82c0917f3f'),\n",
       " ToolMessage(content='{\"result\": \"success\", \"documentation\": \"https://www.exchangerate-api.com/docs\", \"terms_of_use\": \"https://www.exchangerate-api.com/terms\", \"time_last_update_unix\": 1755734401, \"time_last_update_utc\": \"Thu, 21 Aug 2025 00:00:01 +0000\", \"time_next_update_unix\": 1755820801, \"time_next_update_utc\": \"Fri, 22 Aug 2025 00:00:01 +0000\", \"base_code\": \"USD\", \"target_code\": \"INR\", \"conversion_rate\": 87.071}', name='get_conversion_factor', tool_call_id='0bdd177d-0b9d-4e55-90f2-ac82c0917f3f'),\n",
       " HumanMessage(content='Please provide the final answer now. And list down the name of tools that you used for finding the final answer', additional_kwargs={}, response_metadata={})]"
      ]
     },
     "execution_count": 106,
     "metadata": {},
     "output_type": "execute_result"
    }
   ],
   "source": [
    "messages"
   ]
  },
  {
   "cell_type": "code",
   "execution_count": 107,
   "id": "df112d46",
   "metadata": {},
   "outputs": [
    {
     "data": {
      "text/plain": [
       "'The conversion factor between USD and INR is 87.071.\\n\\n10 USD is equal to 870.71 INR.\\n\\nI used the `get_conversion_factor` tool to find the conversion factor.'"
      ]
     },
     "execution_count": 107,
     "metadata": {},
     "output_type": "execute_result"
    }
   ],
   "source": [
    "llm_with_tools.invoke(messages).content"
   ]
  }
 ],
 "metadata": {
  "kernelspec": {
   "display_name": "myenv",
   "language": "python",
   "name": "python3"
  },
  "language_info": {
   "codemirror_mode": {
    "name": "ipython",
    "version": 3
   },
   "file_extension": ".py",
   "mimetype": "text/x-python",
   "name": "python",
   "nbconvert_exporter": "python",
   "pygments_lexer": "ipython3",
   "version": "3.13.0"
  }
 },
 "nbformat": 4,
 "nbformat_minor": 5
}
